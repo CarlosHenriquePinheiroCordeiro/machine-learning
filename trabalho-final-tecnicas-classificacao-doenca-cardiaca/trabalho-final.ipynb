{
 "cells": [
  {
   "cell_type": "markdown",
   "metadata": {},
   "source": [
    "# Trabalho Final Machine Learning - Classificação de Doenças Cardíacas por KNN, Random Forest e SVM (Support Vector Machines)"
   ]
  },
  {
   "cell_type": "markdown",
   "metadata": {},
   "source": [
    "## Aluno: Carlos Henrique Pinheiro Cordeiro\n",
    "#### Link para download do dataset utilizado: https://archive.ics.uci.edu/dataset/45/heart+disease"
   ]
  },
  {
   "cell_type": "markdown",
   "metadata": {},
   "source": [
    "---"
   ]
  },
  {
   "cell_type": "markdown",
   "metadata": {},
   "source": [
    "### Primeiramente deve se estabelecer uma base para as três técnicas. Consistindo em resgatar os dados desejados, para que seja realizado um pré-processamento\n",
    "### Iniciando pelo resgate dos dados para um dataframe do Pandas"
   ]
  },
  {
   "cell_type": "code",
   "execution_count": 1,
   "metadata": {},
   "outputs": [],
   "source": [
    "import pandas as pd\n",
    "import numpy as np\n",
    "aColunas = [\"age\", \"sex\", \"cp\", \"trestbps\", \"chol\", \"fbs\", \"restecg\", \"thalach\", \"exang\", \"oldpeak\", \"slope\", \"ca\", \"thal\", \"target\"]\n",
    "oDfDados = pd.read_csv(\"dataset/processed.cleveland.data\", names=aColunas, na_values='?')"
   ]
  },
  {
   "cell_type": "markdown",
   "metadata": {},
   "source": [
    "### Agora, se tem o pré-processamento dos dados, limpando valores nulos e realizando separações dos conjuntos de teste e treinamento"
   ]
  },
  {
   "cell_type": "code",
   "execution_count": 2,
   "metadata": {},
   "outputs": [],
   "source": [
    "from sklearn.model_selection import train_test_split\n",
    "oDfDados = oDfDados.dropna()\n",
    "\n",
    "aX = oDfDados.drop(\"target\", axis=1)\n",
    "aY = oDfDados[\"target\"]\n",
    "\n",
    "xTreinamento, xTeste, yTreinamento, yTeste = train_test_split(aX, aY, test_size=0.2, random_state=42)"
   ]
  },
  {
   "cell_type": "markdown",
   "metadata": {},
   "source": [
    "### A partir daqui, com a base estabelecida (dados obtidos e limpos) pode-se dar início a etapa de testes com os três modelos selecionados: KNN, Random Forest e SVM"
   ]
  },
  {
   "cell_type": "markdown",
   "metadata": {},
   "source": [
    "---------------------------------------------------------"
   ]
  },
  {
   "cell_type": "markdown",
   "metadata": {},
   "source": [
    "# KNN\n",
    "\n",
    "### Normalização dos dados e treinamento do modelo KNN"
   ]
  },
  {
   "cell_type": "code",
   "execution_count": 3,
   "metadata": {},
   "outputs": [],
   "source": [
    "from sklearn.preprocessing import StandardScaler\n",
    "\n",
    "oScaler         = StandardScaler()\n",
    "xTreinamentoKnn = oScaler.fit_transform(xTreinamento)\n",
    "xTesteKnn       = oScaler.transform(xTeste)"
   ]
  },
  {
   "cell_type": "markdown",
   "metadata": {},
   "source": [
    "### Criação do modelo KNN para o melhor K definido de forma iterativa"
   ]
  },
  {
   "cell_type": "code",
   "execution_count": 9,
   "metadata": {},
   "outputs": [
    {
     "name": "stdout",
     "output_type": "stream",
     "text": [
      "O melhor K definido é: 0.7, tendo como K = 2\n",
      "0.7\n"
     ]
    }
   ],
   "source": [
    "from sklearn.neighbors import KNeighborsClassifier\n",
    "from sklearn.metrics import accuracy_score, classification_report, confusion_matrix\n",
    " \n",
    "aValoresK = np.array([]);\n",
    "for k in range(1, 101):\n",
    "    aValoresK = np.append(aValoresK, [KNeighborsClassifier(n_neighbors=k).fit(xTreinamentoKnn, yTreinamento).score(xTesteKnn, yTeste)])\n",
    "\n",
    "print(\"O melhor K definido é: \"+str(aValoresK.max())+\", tendo como K = \"+str(aValoresK.argmax()+1))\n",
    "\n",
    "oModeloKnn = KNeighborsClassifier(n_neighbors=aValoresK.argmax()+1);\n",
    "oModeloKnn.fit(xTreinamentoKnn, yTreinamento)\n",
    "print(oModeloKnn.score(xTesteKnn, yTeste))\n"
   ]
  },
  {
   "cell_type": "markdown",
   "metadata": {},
   "source": [
    "### Realização de previsões com o modelo a partir do conjunto de teste"
   ]
  },
  {
   "cell_type": "code",
   "execution_count": 10,
   "metadata": {},
   "outputs": [
    {
     "name": "stdout",
     "output_type": "stream",
     "text": [
      "Acurácia: 0.70\n",
      "\n",
      "Matriz de Confusão:\n",
      "[[35  1  0  0  0]\n",
      " [ 2  6  1  0  0]\n",
      " [ 3  2  0  0  0]\n",
      " [ 3  2  1  1  0]\n",
      " [ 1  2  0  0  0]]\n",
      "\n",
      "Relatório de Classificação:\n",
      "              precision    recall  f1-score   support\n",
      "\n",
      "           0       0.80      0.97      0.88        36\n",
      "           1       0.46      0.67      0.55         9\n",
      "           2       0.00      0.00      0.00         5\n",
      "           3       1.00      0.14      0.25         7\n",
      "           4       0.00      0.00      0.00         3\n",
      "\n",
      "    accuracy                           0.70        60\n",
      "   macro avg       0.45      0.36      0.33        60\n",
      "weighted avg       0.66      0.70      0.64        60\n",
      "\n"
     ]
    },
    {
     "name": "stderr",
     "output_type": "stream",
     "text": [
      "c:\\ProgramData\\anaconda3\\Lib\\site-packages\\sklearn\\metrics\\_classification.py:1469: UndefinedMetricWarning: Precision and F-score are ill-defined and being set to 0.0 in labels with no predicted samples. Use `zero_division` parameter to control this behavior.\n",
      "  _warn_prf(average, modifier, msg_start, len(result))\n",
      "c:\\ProgramData\\anaconda3\\Lib\\site-packages\\sklearn\\metrics\\_classification.py:1469: UndefinedMetricWarning: Precision and F-score are ill-defined and being set to 0.0 in labels with no predicted samples. Use `zero_division` parameter to control this behavior.\n",
      "  _warn_prf(average, modifier, msg_start, len(result))\n",
      "c:\\ProgramData\\anaconda3\\Lib\\site-packages\\sklearn\\metrics\\_classification.py:1469: UndefinedMetricWarning: Precision and F-score are ill-defined and being set to 0.0 in labels with no predicted samples. Use `zero_division` parameter to control this behavior.\n",
      "  _warn_prf(average, modifier, msg_start, len(result))\n"
     ]
    }
   ],
   "source": [
    "yPrevisto = oModeloKnn.predict(xTesteKnn)\n",
    "\n",
    "iAcuracia = accuracy_score(yTeste, yPrevisto)\n",
    "print(f\"Acurácia: {iAcuracia:.2f}\")\n",
    "\n",
    "print(\"\\nMatriz de Confusão:\")\n",
    "print(confusion_matrix(yTeste, yPrevisto))\n",
    "\n",
    "print(\"\\nRelatório de Classificação:\")\n",
    "print(classification_report(yTeste, yPrevisto))\n"
   ]
  }
 ],
 "metadata": {
  "kernelspec": {
   "display_name": "base",
   "language": "python",
   "name": "python3"
  },
  "language_info": {
   "codemirror_mode": {
    "name": "ipython",
    "version": 3
   },
   "file_extension": ".py",
   "mimetype": "text/x-python",
   "name": "python",
   "nbconvert_exporter": "python",
   "pygments_lexer": "ipython3",
   "version": "3.11.5"
  }
 },
 "nbformat": 4,
 "nbformat_minor": 2
}
